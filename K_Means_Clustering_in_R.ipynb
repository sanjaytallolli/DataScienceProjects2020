{
  "nbformat": 4,
  "nbformat_minor": 0,
  "metadata": {
    "colab": {
      "name": "K Means Clustering in R.ipynb",
      "provenance": [],
      "authorship_tag": "ABX9TyMilNFjRVLxXoFNGR8A5gkh",
      "include_colab_link": true
    },
    "kernelspec": {
      "name": "python3",
      "display_name": "Python 3"
    }
  },
  "cells": [
    {
      "cell_type": "markdown",
      "metadata": {
        "id": "view-in-github",
        "colab_type": "text"
      },
      "source": [
        "<a href=\"https://colab.research.google.com/github/sanjaytallolli/DataScienceProjects2020/blob/master/K_Means_Clustering_in_R.ipynb\" target=\"_parent\"><img src=\"https://colab.research.google.com/assets/colab-badge.svg\" alt=\"Open In Colab\"/></a>"
      ]
    },
    {
      "cell_type": "code",
      "metadata": {
        "id": "Kt4PjgSEg0s8",
        "colab_type": "code",
        "colab": {}
      },
      "source": [
        "library(datasets)\n",
        "head(iris)\n",
        "library(ggplot2)\n",
        "ggplot(iris, aes(Petal.Length, Petal.Width, color = Species)) + geom_point()"
      ],
      "execution_count": 0,
      "outputs": []
    },
    {
      "cell_type": "code",
      "metadata": {
        "id": "qFuttyKmhNU5",
        "colab_type": "code",
        "colab": {}
      },
      "source": [
        "set.seed(20)\n",
        "irisCluster <- kmeans(iris[, 3:4], 3, nstart = 20)\n",
        "irisCluster"
      ],
      "execution_count": 0,
      "outputs": []
    },
    {
      "cell_type": "code",
      "metadata": {
        "id": "ZKlUyavghOL_",
        "colab_type": "code",
        "colab": {}
      },
      "source": [
        "#https://datascienceplus.com/k-means-clustering-in-r/"
      ],
      "execution_count": 0,
      "outputs": []
    },
    {
      "cell_type": "code",
      "metadata": {
        "id": "vS-pc7dAhpLC",
        "colab_type": "code",
        "colab": {}
      },
      "source": [
        "table(irisCluster$cluster, iris$Species)"
      ],
      "execution_count": 0,
      "outputs": []
    },
    {
      "cell_type": "code",
      "metadata": {
        "id": "uhTGd4szhuUB",
        "colab_type": "code",
        "colab": {}
      },
      "source": [
        "irisCluster$cluster <- as.factor(irisCluster$cluster)\n",
        "ggplot(iris, aes(Petal.Length, Petal.Width, color = irisCluster$cluster)) + geom_point()"
      ],
      "execution_count": 0,
      "outputs": []
    }
  ]
}